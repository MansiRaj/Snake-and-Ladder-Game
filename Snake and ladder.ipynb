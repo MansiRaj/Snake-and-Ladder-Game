{
 "cells": [
  {
   "cell_type": "code",
   "execution_count": 1,
   "metadata": {},
   "outputs": [
    {
     "name": "stdout",
     "output_type": "stream",
     "text": [
      "Enter the name of first player : mansi\n",
      "Enter the name of second player : ridhi\n"
     ]
    }
   ],
   "source": [
    "player_1=input(\"Enter the name of first player : \")\n",
    "player_2=input(\"Enter the name of second player : \")"
   ]
  },
  {
   "cell_type": "code",
   "execution_count": 2,
   "metadata": {},
   "outputs": [
    {
     "name": "stdout",
     "output_type": "stream",
     "text": [
      "LETS START THE GAME\n"
     ]
    }
   ],
   "source": [
    "print(\"LETS START THE GAME\")"
   ]
  },
  {
   "cell_type": "code",
   "execution_count": 3,
   "metadata": {},
   "outputs": [],
   "source": [
    "import random\n",
    "roll_dice=[*range(1,7)]"
   ]
  },
  {
   "cell_type": "code",
   "execution_count": 4,
   "metadata": {},
   "outputs": [],
   "source": [
    "roll_l=[*range(1,31)]\n",
    "roll_list = [str(int) for int in roll_l]\n",
    "p1_initial_pos=0\n",
    "p1_final_pos=0"
   ]
  },
  {
   "cell_type": "code",
   "execution_count": 9,
   "metadata": {},
   "outputs": [
    {
     "name": "stdout",
     "output_type": "stream",
     "text": [
      "Player1 : 23\n",
      "You got a 23\n",
      "your final position is  23\n"
     ]
    }
   ],
   "source": [
    "player1_input=input(\"Player1 : \")\n",
    "if player1_input=='roll':\n",
    "    num=random.choice(roll_dice)\n",
    "    print(\"You got a\",num) \n",
    "    p1_final_pos=p1_initial_pos + num\n",
    "    print(\"your final position is \",final_pos)\n",
    "    p1_initial_pos=p1_final_pos\n",
    "elif player1_input=='quit':\n",
    "    print(\"Player 2 wins\")\n",
    "elif player1_input in roll_list:\n",
    "    num=player1_input\n",
    "    print(\"You got a\",num)\n",
    "    p1_final_pos=p1_initial_pos + int(num)\n",
    "    print(\"your final position is \",final_pos)\n",
    "    p1_initial_pos=p1_final_pos\n",
    "else:\n",
    "    print(\"invalid input\")\n",
    "    "
   ]
  },
  {
   "cell_type": "code",
   "execution_count": null,
   "metadata": {},
   "outputs": [],
   "source": []
  }
 ],
 "metadata": {
  "kernelspec": {
   "display_name": "Python 3",
   "language": "python",
   "name": "python3"
  },
  "language_info": {
   "codemirror_mode": {
    "name": "ipython",
    "version": 3
   },
   "file_extension": ".py",
   "mimetype": "text/x-python",
   "name": "python",
   "nbconvert_exporter": "python",
   "pygments_lexer": "ipython3",
   "version": "3.7.9"
  }
 },
 "nbformat": 4,
 "nbformat_minor": 4
}
