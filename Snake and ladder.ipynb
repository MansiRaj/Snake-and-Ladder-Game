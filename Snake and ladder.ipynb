{
 "cells": [
  {
   "cell_type": "code",
   "execution_count": 1,
   "metadata": {},
   "outputs": [
    {
     "name": "stdout",
     "output_type": "stream",
     "text": [
      "Enter the name of first player : Mansi\n",
      "Enter the name of second player : Ridhi\n"
     ]
    }
   ],
   "source": [
    "player_1=input(\"Enter the name of first player : \")\n",
    "player_2=input(\"Enter the name of second player : \")"
   ]
  },
  {
   "cell_type": "code",
   "execution_count": 2,
   "metadata": {},
   "outputs": [
    {
     "name": "stdout",
     "output_type": "stream",
     "text": [
      "LETS START THE GAME\n"
     ]
    }
   ],
   "source": [
    "print(\"LETS START THE GAME\")"
   ]
  },
  {
   "cell_type": "code",
   "execution_count": 3,
   "metadata": {},
   "outputs": [],
   "source": [
    "import random\n",
    "roll_dice=[*range(1,7)]"
   ]
  },
  {
   "cell_type": "code",
   "execution_count": null,
   "metadata": {},
   "outputs": [],
   "source": [
    "roll_l=[*range(1,31)]\n",
    "roll_list = [str(int) for int in roll_l]\n",
    "roll_final=[\"roll\",roll_list,\"quit\"]\n",
    "p1_initial_pos=0\n",
    "p1_final_pos=0\n",
    "p2_initial_pos=0\n",
    "p2_final_pos=0\n",
    "MAX_VAL=100"
   ]
  },
  {
   "cell_type": "code",
   "execution_count": null,
   "metadata": {},
   "outputs": [
    {
     "name": "stdout",
     "output_type": "stream",
     "text": [
      "Player1 : 21\n",
      "Sorry, your response is not Valid.\n",
      "Please try again\n",
      "Player1 : roll\n",
      "You got a 6\n",
      "your final position is  11\n",
      "your final position is  11\n"
     ]
    }
   ],
   "source": [
    "while True:\n",
    "    player1_input=input(\"Player1 : \")\n",
    "    if player1_input not in roll_final:\n",
    "        print(\"Sorry, your response is not Valid.\")\n",
    "        print(\"Please try again\")\n",
    "        continue\n",
    "    else:\n",
    "        break\n",
    "if player1_input=='roll':\n",
    "    num=random.choice(roll_dice)\n",
    "    print(\"You got a\",num) \n",
    "    p1_final_pos=p1_initial_pos + num\n",
    "    if p1_final_pos<MAX_VAL:\n",
    "        print(\"your final position is \",p1_final_pos)\n",
    "    elif p1_final_pos==MAX_VAL:\n",
    "        print(\"CONGRATULATIONS\")\n",
    "        print(\"Player 1 wins\")\n",
    "    else:\n",
    "        print(\"Your position is exceeding the MAXIMUM VLAUE\")\n",
    "    print(\"your final position is \",p1_final_pos)\n",
    "    p1_initial_pos=p1_final_pos\n",
    "elif player1_input=='quit':\n",
    "    print(\"Player 2 wins\")\n",
    "elif player1_input in roll_list:\n",
    "    num=player1_input\n",
    "    print(\"You got a\",num)\n",
    "    p1_final_pos=p1_initial_pos + int(num)\n",
    "    print(\"your final position is \",p1_final_pos)\n",
    "    p1_initial_pos=p1_final_pos\n",
    "else:\n",
    "    print(\"invalid input\")\n",
    "    \n",
    "while True:\n",
    "    player2_input=input(\"Player2 : \")\n",
    "    if player2_input not in roll:\n",
    "        print(\"Sorry, your response is not Valid.\")\n",
    "        print(\"Please try again\")\n",
    "        continue\n",
    "    else:\n",
    "        break\n",
    "if player2_input=='roll':\n",
    "    num=random.choice(roll_dice)\n",
    "    print(\"You got a\",num) \n",
    "    p2_final_pos=p2_initial_pos + num\n",
    "    print(\"your final position is \",p2_final_pos)\n",
    "    p2_initial_pos=p2_final_pos\n",
    "elif player2_input=='quit':\n",
    "    print(\"Player 1 wins\")\n",
    "elif player2_input in roll_list:\n",
    "    num=player2_input\n",
    "    print(\"You got a\",num)\n",
    "    p2_final_pos=p2_initial_pos + int(num)\n",
    "    print(\"your final position is \",p2_final_pos)\n",
    "    p2_initial_pos=p2_final_pos\n",
    "else:\n",
    "    print(\"invalid input\")\n",
    "    "
   ]
  },
  {
   "cell_type": "code",
   "execution_count": null,
   "metadata": {},
   "outputs": [],
   "source": []
  }
 ],
 "metadata": {
  "kernelspec": {
   "display_name": "Python 3",
   "language": "python",
   "name": "python3"
  },
  "language_info": {
   "codemirror_mode": {
    "name": "ipython",
    "version": 3
   },
   "file_extension": ".py",
   "mimetype": "text/x-python",
   "name": "python",
   "nbconvert_exporter": "python",
   "pygments_lexer": "ipython3",
   "version": "3.7.9"
  }
 },
 "nbformat": 4,
 "nbformat_minor": 4
}
